{
 "cells": [
  {
   "cell_type": "code",
   "execution_count": 1,
   "id": "fafebba6",
   "metadata": {},
   "outputs": [],
   "source": [
    "import numpy as np\n",
    "import matplotlib.pyplot as plt"
   ]
  },
  {
   "cell_type": "code",
   "execution_count": 4,
   "id": "f0f5e797",
   "metadata": {},
   "outputs": [],
   "source": [
    "data=np.loadtxt(\"E:/data.txt\",delimiter=',')"
   ]
  },
  {
   "cell_type": "code",
   "execution_count": 5,
   "id": "aaf04633",
   "metadata": {},
   "outputs": [
    {
     "data": {
      "text/plain": [
       "array([[  1500., 158900.],\n",
       "       [  1700., 169850.],\n",
       "       [  1750., 178950.],\n",
       "       [  1800., 178650.],\n",
       "       [  1820., 180000.],\n",
       "       [  1920., 186850.],\n",
       "       [  1450., 150000.],\n",
       "       [  1590., 149870.],\n",
       "       [  1596., 158620.],\n",
       "       [  1623., 159990.],\n",
       "       [  1878., 189680.],\n",
       "       [  1658., 168980.],\n",
       "       [  1720., 170000.],\n",
       "       [  1985., 190000.],\n",
       "       [  2000., 198510.],\n",
       "       [  2100., 200000.],\n",
       "       [  2050., 193580.],\n",
       "       [  1990., 200000.],\n",
       "       [  1965., 195180.],\n",
       "       [  1970., 198680.],\n",
       "       [  2120., 201650.],\n",
       "       [  2200., 220000.],\n",
       "       [  2156., 216510.],\n",
       "       [  1269., 138550.],\n",
       "       [  1489., 149850.],\n",
       "       [  1785., 179850.],\n",
       "       [  1965., 196280.],\n",
       "       [  1948., 195680.],\n",
       "       [  2008., 200000.],\n",
       "       [  2079., 205880.],\n",
       "       [  2116., 210000.],\n",
       "       [  2230., 220000.],\n",
       "       [  2200., 219850.],\n",
       "       [  2220., 222000.],\n",
       "       [  2365., 235680.],\n",
       "       [  2325., 239580.],\n",
       "       [  2396., 240000.],\n",
       "       [  2489., 248850.],\n",
       "       [  2420., 245590.],\n",
       "       [  2398., 240000.],\n",
       "       [  2350., 236840.],\n",
       "       [  2375., 230000.],\n",
       "       [  2236., 226260.],\n",
       "       [  2347., 220590.],\n",
       "       [  2459., 239840.]])"
      ]
     },
     "execution_count": 5,
     "metadata": {},
     "output_type": "execute_result"
    }
   ],
   "source": [
    "data"
   ]
  },
  {
   "cell_type": "code",
   "execution_count": 16,
   "id": "39d62b18",
   "metadata": {},
   "outputs": [],
   "source": [
    "X=data[:,0]\n",
    "Y=data[:,1].reshape(Y.size,1)"
   ]
  },
  {
   "cell_type": "code",
   "execution_count": 17,
   "id": "b4423fa0",
   "metadata": {},
   "outputs": [
    {
     "data": {
      "text/plain": [
       "array([1500., 1700., 1750., 1800., 1820., 1920., 1450., 1590., 1596.,\n",
       "       1623., 1878., 1658., 1720., 1985., 2000., 2100., 2050., 1990.,\n",
       "       1965., 1970., 2120., 2200., 2156., 1269., 1489., 1785., 1965.,\n",
       "       1948., 2008., 2079., 2116., 2230., 2200., 2220., 2365., 2325.,\n",
       "       2396., 2489., 2420., 2398., 2350., 2375., 2236., 2347., 2459.])"
      ]
     },
     "execution_count": 17,
     "metadata": {},
     "output_type": "execute_result"
    }
   ],
   "source": [
    "X"
   ]
  },
  {
   "cell_type": "code",
   "execution_count": 18,
   "id": "a6018d4e",
   "metadata": {},
   "outputs": [],
   "source": [
    "X=np.vstack((np.ones((X.size,)),X)).T"
   ]
  },
  {
   "cell_type": "code",
   "execution_count": 19,
   "id": "d26e6d20",
   "metadata": {},
   "outputs": [
    {
     "name": "stdout",
     "output_type": "stream",
     "text": [
      "(45, 2)\n"
     ]
    }
   ],
   "source": [
    "print(X.shape)"
   ]
  },
  {
   "cell_type": "code",
   "execution_count": 20,
   "id": "f6824530",
   "metadata": {},
   "outputs": [
    {
     "name": "stdout",
     "output_type": "stream",
     "text": [
      "(45, 1)\n"
     ]
    }
   ],
   "source": [
    "print(Y.shape)"
   ]
  },
  {
   "cell_type": "code",
   "execution_count": 21,
   "id": "381cd332",
   "metadata": {},
   "outputs": [
    {
     "data": {
      "text/plain": [
       "<matplotlib.collections.PathCollection at 0x23d1defa9a0>"
      ]
     },
     "execution_count": 21,
     "metadata": {},
     "output_type": "execute_result"
    },
    {
     "data": {
      "image/png": "[encoded data removed]",
      "text/plain": [
       "<Figure size 432x288 with 1 Axes>"
      ]
     },
     "metadata": {
      "needs_background": "light"
     },
     "output_type": "display_data"
    }
   ],
   "source": [
    "plt.scatter(X[:,1],Y)"
   ]
  },
  {
   "cell_type": "code",
   "execution_count": 73,
   "id": "c6c12c55",
   "metadata": {},
   "outputs": [],
   "source": [
    "def model(X,Y,learning_rate,iterations):\n",
    "    m=Y.size\n",
    "    theta=np.zeros((2,1))\n",
    "    cost_list=[]\n",
    "    for i in range(iterations):\n",
    "        y_pred=np.dot(X,theta)\n",
    "        cost=(1/(2*m))*np.sum(np.square(y_pred-Y))\n",
    "        d_theta=(1/m)*np.dot(X.T,y_pred-Y)\n",
    "        theta=theta-learning_rate*d_theta\n",
    "        cost_list.append(cost)\n",
    "    return theta,cost_list"
   ]
  },
  {
   "cell_type": "code",
   "execution_count": 102,
   "id": "3faa6a8d",
   "metadata": {},
   "outputs": [],
   "source": [
    "iterations=1000\n",
    "learning_rate=0.00000005\n",
    "theta,cost_list=model(X,Y,learning_rate=learning_rate,iterations=iterations)"
   ]
  },
  {
   "cell_type": "code",
   "execution_count": 103,
   "id": "06cb757b",
   "metadata": {},
   "outputs": [
    {
     "data": {
      "text/plain": [
       "array([155349.27122983])"
      ]
     },
     "execution_count": 103,
     "metadata": {},
     "output_type": "execute_result"
    }
   ],
   "source": [
    "np.dot([1,1563],theta)"
   ]
  },
  {
   "cell_type": "code",
   "execution_count": 104,
   "id": "3cbc83dd",
   "metadata": {},
   "outputs": [
    {
     "name": "stdout",
     "output_type": "stream",
     "text": [
      "our model predict the prices of house 1234 sq ft area in $ are 122649.41\n",
      "our model predict the prices of house 2345 sq ft area in $ are 233073.57\n",
      "our model predict the prices of house 1568 sq ft area in $ are 155846.23\n",
      "our model predict the prices of house 1765 sq ft area in $ are 175426.39\n"
     ]
    }
   ],
   "source": [
    "np_houses=np.array([[1,1234],[1,2345],[1,1568],[1,1765]])\n",
    "for home in np_houses:\n",
    "    print(\"our model predict the prices of house\",home[1],\"sq ft area in $ are\",round(np.dot(home,theta)[0],2))"
   ]
  },
  {
   "cell_type": "code",
   "execution_count": 105,
   "id": "52b47738",
   "metadata": {},
   "outputs": [
    {
     "data": {
      "text/plain": [
       "[<matplotlib.lines.Line2D at 0x23d23cff940>]"
      ]
     },
     "execution_count": 105,
     "metadata": {},
     "output_type": "execute_result"
    },
    {
     "data": {
      "image/png": "[encoded data removed]",
      "text/plain": [
       "<Figure size 432x288 with 1 Axes>"
      ]
     },
     "metadata": {
      "needs_background": "light"
     },
     "output_type": "display_data"
    }
   ],
   "source": [
    "rng=np.arange(0,iterations)\n",
    "plt.plot(cost_list,rng)"
   ]
  },
  {
   "cell_type": "code",
   "execution_count": null,
   "id": "03c1ef3a",
   "metadata": {},
   "outputs": [],
   "source": []
  },
  {
   "cell_type": "code",
   "execution_count": null,
   "id": "091432cf",
   "metadata": {},
   "outputs": [],
   "source": []
  }
 ],
 "metadata": {
  "kernelspec": {
   "display_name": "Python 3 (ipykernel)",
   "language": "python",
   "name": "python3"
  },
  "language_info": {
   "codemirror_mode": {
    "name": "ipython",
    "version": 3
   },
   "file_extension": ".py",
   "mimetype": "text/x-python",
   "name": "python",
   "nbconvert_exporter": "python",
   "pygments_lexer": "ipython3",
   "version": "3.9.12"
  }
 },
 "nbformat": 4,
 "nbformat_minor": 5
}
