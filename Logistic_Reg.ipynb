{
 "cells": [
  {
   "cell_type": "code",
   "execution_count": 1,
   "id": "a10edc43",
   "metadata": {},
   "outputs": [],
   "source": [
    "import numpy as np\n",
    "import pandas as pd\n",
    "import matplotlib.pyplot as plt"
   ]
  },
  {
   "cell_type": "code",
   "execution_count": 4,
   "id": "fd885bc2",
   "metadata": {},
   "outputs": [],
   "source": [
    "X_train=pd.read_csv('E:/Coding-Lane-Assets/Logistic Regression in Python from Scratch/train_X.csv')\n",
    "Y_train=pd.read_csv('E:/Coding-Lane-Assets/Logistic Regression in Python from Scratch/train_Y.csv')\n",
    "X_test=pd.read_csv('E:/Coding-Lane-Assets/Logistic Regression in Python from Scratch/test_X.csv')\n",
    "Y_test=pd.read_csv('E:/Coding-Lane-Assets/Logistic Regression in Python from Scratch/test_Y.csv')"
   ]
  },
  {
   "cell_type": "code",
   "execution_count": 3,
   "id": "ff8839b0",
   "metadata": {},
   "outputs": [
    {
     "data": {
      "text/html": [
       "<div>\n",
       "<style scoped>\n",
       "    .dataframe tbody tr th:only-of-type {\n",
       "        vertical-align: middle;\n",
       "    }\n",
       "\n",
       "    .dataframe tbody tr th {\n",
       "        vertical-align: top;\n",
       "    }\n",
       "\n",
       "    .dataframe thead th {\n",
       "        text-align: right;\n",
       "    }\n",
       "</style>\n",
       "<table border=\"1\" class=\"dataframe\">\n",
       "  <thead>\n",
       "    <tr style=\"text-align: right;\">\n",
       "      <th></th>\n",
       "      <th>Id</th>\n",
       "      <th>Pclass</th>\n",
       "      <th>Sex</th>\n",
       "      <th>Age</th>\n",
       "      <th>SibSp</th>\n",
       "      <th>Parch</th>\n",
       "      <th>Fare</th>\n",
       "      <th>Embarked</th>\n",
       "    </tr>\n",
       "  </thead>\n",
       "  <tbody>\n",
       "    <tr>\n",
       "      <th>0</th>\n",
       "      <td>0</td>\n",
       "      <td>3</td>\n",
       "      <td>0</td>\n",
       "      <td>22.0</td>\n",
       "      <td>1</td>\n",
       "      <td>0</td>\n",
       "      <td>7.2500</td>\n",
       "      <td>1</td>\n",
       "    </tr>\n",
       "    <tr>\n",
       "      <th>1</th>\n",
       "      <td>1</td>\n",
       "      <td>1</td>\n",
       "      <td>1</td>\n",
       "      <td>38.0</td>\n",
       "      <td>1</td>\n",
       "      <td>0</td>\n",
       "      <td>71.2833</td>\n",
       "      <td>0</td>\n",
       "    </tr>\n",
       "    <tr>\n",
       "      <th>2</th>\n",
       "      <td>2</td>\n",
       "      <td>3</td>\n",
       "      <td>1</td>\n",
       "      <td>26.0</td>\n",
       "      <td>0</td>\n",
       "      <td>0</td>\n",
       "      <td>7.9250</td>\n",
       "      <td>1</td>\n",
       "    </tr>\n",
       "    <tr>\n",
       "      <th>3</th>\n",
       "      <td>3</td>\n",
       "      <td>1</td>\n",
       "      <td>1</td>\n",
       "      <td>35.0</td>\n",
       "      <td>1</td>\n",
       "      <td>0</td>\n",
       "      <td>53.1000</td>\n",
       "      <td>1</td>\n",
       "    </tr>\n",
       "    <tr>\n",
       "      <th>4</th>\n",
       "      <td>4</td>\n",
       "      <td>3</td>\n",
       "      <td>0</td>\n",
       "      <td>35.0</td>\n",
       "      <td>0</td>\n",
       "      <td>0</td>\n",
       "      <td>8.0500</td>\n",
       "      <td>1</td>\n",
       "    </tr>\n",
       "  </tbody>\n",
       "</table>\n",
       "</div>"
      ],
      "text/plain": [
       "   Id  Pclass  Sex   Age  SibSp  Parch     Fare  Embarked\n",
       "0   0       3    0  22.0      1      0   7.2500         1\n",
       "1   1       1    1  38.0      1      0  71.2833         0\n",
       "2   2       3    1  26.0      0      0   7.9250         1\n",
       "3   3       1    1  35.0      1      0  53.1000         1\n",
       "4   4       3    0  35.0      0      0   8.0500         1"
      ]
     },
     "execution_count": 3,
     "metadata": {},
     "output_type": "execute_result"
    }
   ],
   "source": [
    "X_train.head()"
   ]
  },
  {
   "cell_type": "code",
   "execution_count": 5,
   "id": "72e666fe",
   "metadata": {},
   "outputs": [],
   "source": [
    "X_train=X_train.drop('Id',axis=1)\n",
    "Y_train=Y_train.drop('Id',axis=1)\n",
    "X_test=X_test.drop('Id',axis=1)\n",
    "Y_test=Y_test.drop('Id',axis=1)"
   ]
  },
  {
   "cell_type": "code",
   "execution_count": 6,
   "id": "e84f157e",
   "metadata": {},
   "outputs": [],
   "source": [
    "X_train=X_train.values\n",
    "Y_train=Y_train.values\n",
    "X_test=X_test.values\n",
    "Y_test=Y_test.values"
   ]
  },
  {
   "cell_type": "code",
   "execution_count": 7,
   "id": "9a43ceed",
   "metadata": {},
   "outputs": [],
   "source": [
    "X_train=X_train.T\n",
    "Y_train=Y_train.reshape(1,X_train.shape[1])\n",
    "X_test=X_test.T\n",
    "Y_test=Y_test.reshape(1,X_test.shape[1])"
   ]
  },
  {
   "cell_type": "code",
   "execution_count": 11,
   "id": "7414dbd5",
   "metadata": {},
   "outputs": [
    {
     "data": {
      "text/plain": [
       "(1, 418)"
      ]
     },
     "execution_count": 11,
     "metadata": {},
     "output_type": "execute_result"
    }
   ],
   "source": [
    "X_train.shape\n",
    "Y_test.shape"
   ]
  },
  {
   "cell_type": "code",
   "execution_count": 15,
   "id": "77eb3412",
   "metadata": {},
   "outputs": [
    {
     "data": {
      "text/plain": [
       "7.38905609893065"
      ]
     },
     "execution_count": 15,
     "metadata": {},
     "output_type": "execute_result"
    }
   ],
   "source": [
    "np.exp(2)"
   ]
  },
  {
   "cell_type": "code",
   "execution_count": 13,
   "id": "57e47af8",
   "metadata": {},
   "outputs": [],
   "source": [
    "def sigmoid(x):\n",
    "    return 1/(1+np.exp(-x))"
   ]
  },
  {
   "cell_type": "code",
   "execution_count": 21,
   "id": "fef365fe",
   "metadata": {},
   "outputs": [],
   "source": [
    "def model(X,Y,learning_rate,iterations):\n",
    "    m=X_train.shape[1] #number of observations\n",
    "    n=X_train.shape[0] # number of featuers\n",
    "    W=np.zeros((n,1))\n",
    "    B=0\n",
    "    cost_li=[]\n",
    "    for i in range(iterations):\n",
    "        z=np.dot(W.T,X)+B\n",
    "        A=sigmoid(z)\n",
    "        cost=-(1/m)*np.sum(Y*np.log(A)+(1-Y)*np.log(1-A))\n",
    "        dw=(1/m)*np.dot(A-Y,X.T)\n",
    "        db=(1/m)*np.sum(A-Y)\n",
    "        W=W-learning_rate*dw.T\n",
    "        B=B-learning_rate*db\n",
    "        cost_li.append(cost)\n",
    "        if(i%(iterations/10)==0):\n",
    "            print(\"Cost after\",i,\"iterations :\",cost)\n",
    "            \n",
    "        \n",
    "        \n",
    "    return W,B,cost_li\n",
    "        \n",
    "        \n",
    "        \n",
    "    "
   ]
  },
  {
   "cell_type": "code",
   "execution_count": 26,
   "id": "09ab91c0",
   "metadata": {},
   "outputs": [
    {
     "name": "stdout",
     "output_type": "stream",
     "text": [
      "Cost after 0 iterations : 0.6931471805599454\n",
      "Cost after 100 iterations : 0.623155114769506\n",
      "Cost after 200 iterations : 0.61840847117564\n",
      "Cost after 300 iterations : 0.6141493540385256\n",
      "Cost after 400 iterations : 0.6102987743134621\n",
      "Cost after 500 iterations : 0.6067906069075385\n",
      "Cost after 600 iterations : 0.6035698026303276\n",
      "Cost after 700 iterations : 0.6005907135914306\n",
      "Cost after 800 iterations : 0.5978155878637558\n",
      "Cost after 900 iterations : 0.5952132539127585\n"
     ]
    }
   ],
   "source": [
    "W,B,Cos=model(X_train,Y_train,learning_rate=0.0015,iterations=1000)"
   ]
  },
  {
   "cell_type": "code",
   "execution_count": 27,
   "id": "8b6874a4",
   "metadata": {},
   "outputs": [
    {
     "data": {
      "text/plain": [
       "[<matplotlib.lines.Line2D at 0x201eb42bd00>]"
      ]
     },
     "execution_count": 27,
     "metadata": {},
     "output_type": "execute_result"
    },
    {
     "data": {
      "image/png": "[encoded data removed]",
      "text/plain": [
       "<Figure size 432x288 with 1 Axes>"
      ]
     },
     "metadata": {
      "needs_background": "light"
     },
     "output_type": "display_data"
    }
   ],
   "source": [
    "plt.plot(np.arange(1000),Cos)"
   ]
  },
  {
   "cell_type": "code",
   "execution_count": 28,
   "id": "dbb4a51a",
   "metadata": {},
   "outputs": [],
   "source": [
    "def accuray(X,Y,W,B):\n",
    "    Z=np.dot(W.T,X)+B\n",
    "    A=sigmoid(Z)\n",
    "    A=A>0.5\n",
    "    A=np.array(A,dtype='int64')\n",
    "    acc=(1-np.sum(np.absolute(A-Y))/Y.shape[1])*100\n",
    "    print(\"Accuracy of the model\",acc,'%')\n",
    "    "
   ]
  },
  {
   "cell_type": "code",
   "execution_count": 29,
   "id": "845a82dc",
   "metadata": {},
   "outputs": [
    {
     "name": "stdout",
     "output_type": "stream",
     "text": [
      "Accuracy of the model 65.78947368421053 %\n"
     ]
    }
   ],
   "source": [
    "accuray(X_test,Y_test,W,B)"
   ]
  },
  {
   "cell_type": "code",
   "execution_count": null,
   "id": "bcc47795",
   "metadata": {},
   "outputs": [],
   "source": [
    "from sklearn.linear_model import LogisticRegression"
   ]
  }
 ],
 "metadata": {
  "kernelspec": {
   "display_name": "Python 3 (ipykernel)",
   "language": "python",
   "name": "python3"
  },
  "language_info": {
   "codemirror_mode": {
    "name": "ipython",
    "version": 3
   },
   "file_extension": ".py",
   "mimetype": "text/x-python",
   "name": "python",
   "nbconvert_exporter": "python",
   "pygments_lexer": "ipython3",
   "version": "3.9.12"
  }
 },
 "nbformat": 4,
 "nbformat_minor": 5
}
